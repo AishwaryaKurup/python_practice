{
 "cells": [
  {
   "cell_type": "markdown",
   "id": "74c299c0",
   "metadata": {},
   "source": [
    "---\n",
    "**QUES1: Maximize Happiness of Selected Children**\n",
    "\n",
    "---"
   ]
  },
  {
   "cell_type": "code",
   "execution_count": 65,
   "id": "5a5185d8",
   "metadata": {},
   "outputs": [],
   "source": [
    "def maximumHappinessSum(happiness: list[int], k: int) -> int:\n",
    "        result = 0\n",
    "        while k != 0:\n",
    "            child = happiness[-1]\n",
    "            #print(child)\n",
    "            result = result + child\n",
    "            #print(result)\n",
    "            happiness.pop()\n",
    "            for i in range(0,len(happiness)):\n",
    "                if happiness[i] != 0:\n",
    "                    happiness[i] = happiness[i] - 1\n",
    "            k = k - 1\n",
    "            #print(k)\n",
    "        return result"
   ]
  },
  {
   "cell_type": "code",
   "execution_count": 66,
   "id": "0bc5ca70",
   "metadata": {},
   "outputs": [
    {
     "data": {
      "text/plain": [
       "4"
      ]
     },
     "execution_count": 66,
     "metadata": {},
     "output_type": "execute_result"
    }
   ],
   "source": [
    "maximumHappinessSum([1,2,3],2)"
   ]
  },
  {
   "cell_type": "code",
   "execution_count": 71,
   "id": "6030023f",
   "metadata": {},
   "outputs": [],
   "source": [
    "\n",
    "    def maximumHappinessSum(happiness: list[int], k: int) -> int:\n",
    "        result = 0\n",
    "        turn = 0\n",
    "        while k != 0:\n",
    "            child = max(happiness)\n",
    "            result = result + child - turn\n",
    "            happiness.remove(child)\n",
    "            '''for i in range(0,len(happiness)):\n",
    "                if happiness[i] != 0:\n",
    "                    happiness[i] = happiness[i] - 1\n",
    "            '''\n",
    "            k = k - 1 \n",
    "            turn = turn+1\n",
    "        return result"
   ]
  },
  {
   "cell_type": "code",
   "execution_count": 72,
   "id": "1e3593dc",
   "metadata": {},
   "outputs": [
    {
     "data": {
      "text/plain": [
       "10"
      ]
     },
     "execution_count": 72,
     "metadata": {},
     "output_type": "execute_result"
    }
   ],
   "source": [
    "maximumHappinessSum([2,6,4,5,3],2)"
   ]
  },
  {
   "cell_type": "code",
   "execution_count": 69,
   "id": "3159237e",
   "metadata": {},
   "outputs": [],
   "source": [
    "def maximumHappinessSum(happiness: list[int], k: int) -> int:\n",
    "        result = 0\n",
    "        turn = 0\n",
    "        happiness.sort(reverse=True)\n",
    "        print(happiness)\n",
    "        for i in range(k):\n",
    "            \n",
    "            result = result + max(happiness[i] - turn,0)\n",
    "            turn = turn + 1\n",
    "\n",
    "        return result\n",
    "                "
   ]
  },
  {
   "cell_type": "code",
   "execution_count": 70,
   "id": "f9796358",
   "metadata": {},
   "outputs": [
    {
     "name": "stdout",
     "output_type": "stream",
     "text": [
      "[98, 45, 2]\n"
     ]
    },
    {
     "data": {
      "text/plain": [
       "98"
      ]
     },
     "execution_count": 70,
     "metadata": {},
     "output_type": "execute_result"
    }
   ],
   "source": [
    "maximumHappinessSum([2,98,45],1)"
   ]
  },
  {
   "cell_type": "markdown",
   "id": "3bd4f297",
   "metadata": {},
   "source": [
    "___\n",
    "**QUES2: Valid Parenthesis String**\n",
    "\n",
    "___"
   ]
  },
  {
   "cell_type": "code",
   "execution_count": null,
   "id": "c3cdc3bc",
   "metadata": {},
   "outputs": [],
   "source": [
    "# ture = (*), ((*) , ((())**(()*) as * can be (,)or''\n",
    "                    \n",
    "((())**(()*)\n",
    "(\n",
    "((\n",
    "(((\n",
    "((\n",
    "(\n",
    "(        *\n",
    "(        **\n",
    "((\n",
    "(((\n",
    "((\n",
    "((       ***\n",
    "(        ***\n",
    "\n"
   ]
  },
  {
   "cell_type": "code",
   "execution_count": 61,
   "id": "14633874",
   "metadata": {},
   "outputs": [],
   "source": [
    "def checkValidString(s: str) -> bool:\n",
    "    stk1 = []\n",
    "    stk2 = []\n",
    "    for ch in range(len(s)):\n",
    "        \n",
    "        if s[ch] == '(':\n",
    "            stk1.append(ch)\n",
    "        elif s[ch] == '*':\n",
    "            stk2.append(ch)\n",
    "        else:\n",
    "            if stk1:\n",
    "                stk1.pop()\n",
    "            elif stk2:\n",
    "                stk2.pop()\n",
    "            else:\n",
    "                return False        \n",
    "            \n",
    "            \n",
    "    print('stk1: ',stk1,'stk2: ',stk2)\n",
    "    \n",
    "    while stk1:\n",
    "        \n",
    "        if stk2 == []:\n",
    "            return False\n",
    "        \n",
    "        elif stk1[-1]>stk2[-1]:\n",
    "            return False\n",
    "        \n",
    "        stk1.pop()\n",
    "        stk2.pop()\n",
    "        \n",
    "    return True\n",
    "            "
   ]
  },
  {
   "cell_type": "code",
   "execution_count": 64,
   "id": "f5b844ac",
   "metadata": {},
   "outputs": [
    {
     "name": "stdout",
     "output_type": "stream",
     "text": [
      "stk1:  [0] stk2:  [5, 6, 10]\n"
     ]
    },
    {
     "data": {
      "text/plain": [
       "True"
      ]
     },
     "execution_count": 64,
     "metadata": {},
     "output_type": "execute_result"
    }
   ],
   "source": [
    "checkValidString('((())**(()*)')"
   ]
  },
  {
   "cell_type": "code",
   "execution_count": 57,
   "id": "95662470",
   "metadata": {},
   "outputs": [],
   "source": [
    "stk1 =  ['('] \n",
    "stk2 =  ['*']\n",
    "\n",
    "if stk1[-1]>stk2[-1]:\n",
    "    print(False)"
   ]
  },
  {
   "cell_type": "markdown",
   "id": "1e702561",
   "metadata": {},
   "source": [
    "---\n",
    "**QUES3: Maximize Subarray**\n",
    "\n",
    "---"
   ]
  },
  {
   "cell_type": "markdown",
   "id": "03c9af03",
   "metadata": {},
   "source": [
    "Input: nums = [-2,1,-3,4,-1,2,1,-5,4]\n",
    "\n",
    "Output: 6\n",
    "\n",
    "Explanation: The subarray [4,-1,2,1] has the largest sum 6.\n"
   ]
  },
  {
   "cell_type": "code",
   "execution_count": 10,
   "id": "702e88ab",
   "metadata": {},
   "outputs": [],
   "source": [
    "#brute force ---> time limit exceeds in leetcode\n",
    "def maxSubArray(nums: list[int]) -> int:\n",
    "    ans = nums[0]\n",
    "    if len(nums) == 1 :\n",
    "        return nums[0]\n",
    "\n",
    "    for i in range(0,len(nums)):\n",
    "        curr_sum = 0\n",
    "        for j in range(i,len(nums)):\n",
    "            curr_sum += nums[j]\n",
    "            ans = max(ans,curr_sum)\n",
    "\n",
    "    return ans\n",
    "                \n",
    "        "
   ]
  },
  {
   "cell_type": "code",
   "execution_count": 11,
   "id": "29359cf3",
   "metadata": {},
   "outputs": [
    {
     "data": {
      "text/plain": [
       "6"
      ]
     },
     "execution_count": 11,
     "metadata": {},
     "output_type": "execute_result"
    }
   ],
   "source": [
    "maxSubArray([-2,1,-3,4,-1,2,1,-5,4])"
   ]
  }
 ],
 "metadata": {
  "kernelspec": {
   "display_name": "Python 3 (ipykernel)",
   "language": "python",
   "name": "python3"
  },
  "language_info": {
   "codemirror_mode": {
    "name": "ipython",
    "version": 3
   },
   "file_extension": ".py",
   "mimetype": "text/x-python",
   "name": "python",
   "nbconvert_exporter": "python",
   "pygments_lexer": "ipython3",
   "version": "3.11.4"
  }
 },
 "nbformat": 4,
 "nbformat_minor": 5
}
